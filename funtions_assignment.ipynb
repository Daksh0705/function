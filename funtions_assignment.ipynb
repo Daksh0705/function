{
  "nbformat": 4,
  "nbformat_minor": 0,
  "metadata": {
    "colab": {
      "provenance": []
    },
    "kernelspec": {
      "name": "python3",
      "display_name": "Python 3"
    },
    "language_info": {
      "name": "python"
    }
  },
  "cells": [
    {
      "cell_type": "code",
      "execution_count": 1,
      "metadata": {
        "colab": {
          "base_uri": "https://localhost:8080/"
        },
        "id": "PPbKXoD2geN-",
        "outputId": "e4539205-9500-47f5-dcb5-7102c1817173"
      },
      "outputs": [
        {
          "output_type": "stream",
          "name": "stdout",
          "text": [
            "12\n"
          ]
        }
      ],
      "source": [
        "#Write a Python function that takes a list of numbers as input and returns the sum of all even numbers in\n",
        "#the list.\n",
        "\n",
        "def sum_even_numbers(numbers):\n",
        "    return sum(num for num in numbers if num % 2 == 0)\n",
        "\n",
        "# Example usage\n",
        "numbers = [1, 2, 3, 4, 5, 6]\n",
        "print(sum_even_numbers(numbers))"
      ]
    },
    {
      "cell_type": "code",
      "source": [
        "#Create a Python function that accepts a string and returns the reverse of that string.\n",
        "\n",
        "def reverse_string(s):\n",
        "    return s[::-1]\n",
        "\n",
        "# Example usage\n",
        "text = \"Daksh Pratibha\"\n",
        "print(reverse_string(text))"
      ],
      "metadata": {
        "colab": {
          "base_uri": "https://localhost:8080/"
        },
        "id": "TGqjf_zphERq",
        "outputId": "be4baa20-1bda-4313-ce6b-13f054174a82"
      },
      "execution_count": 2,
      "outputs": [
        {
          "output_type": "stream",
          "name": "stdout",
          "text": [
            "ahbitarP hskaD\n"
          ]
        }
      ]
    },
    {
      "cell_type": "code",
      "source": [
        "#Implement a Python function that takes a list of integers and returns a new list containing the squares of\n",
        "#each number.\n",
        "\n",
        "def square_numbers(numbers):\n",
        "    return [num ** 2 for num in numbers]\n",
        "\n",
        "# Example usage\n",
        "numbers = [10,20,30,40,50]\n",
        "print(square_numbers(numbers))"
      ],
      "metadata": {
        "colab": {
          "base_uri": "https://localhost:8080/"
        },
        "id": "7ie6DkkRhWcm",
        "outputId": "7be26871-16fb-4706-d9c4-9b9847b73356"
      },
      "execution_count": 3,
      "outputs": [
        {
          "output_type": "stream",
          "name": "stdout",
          "text": [
            "[100, 400, 900, 1600, 2500]\n"
          ]
        }
      ]
    },
    {
      "cell_type": "code",
      "source": [
        "# Write a Python function that checks if a given number is prime or not from 1 to 200.\n",
        "\n",
        "def is_prime(n):\n",
        "    if n < 2:\n",
        "        return False\n",
        "    for i in range(2, int(n ** 0.5) + 1):\n",
        "        if n % i == 0:\n",
        "            return False\n",
        "    return True\n",
        "\n",
        "# Checking numbers from 1 to 200\n",
        "prime_numbers = [n for n in range(1, 201) if is_prime(n)]\n",
        "print(prime_numbers)\n"
      ],
      "metadata": {
        "colab": {
          "base_uri": "https://localhost:8080/"
        },
        "id": "vgHTbGCchxZm",
        "outputId": "31d3ecda-25ac-4fce-afb8-ea79c34d5b61"
      },
      "execution_count": 4,
      "outputs": [
        {
          "output_type": "stream",
          "name": "stdout",
          "text": [
            "[2, 3, 5, 7, 11, 13, 17, 19, 23, 29, 31, 37, 41, 43, 47, 53, 59, 61, 67, 71, 73, 79, 83, 89, 97, 101, 103, 107, 109, 113, 127, 131, 137, 139, 149, 151, 157, 163, 167, 173, 179, 181, 191, 193, 197, 199]\n"
          ]
        }
      ]
    },
    {
      "cell_type": "code",
      "source": [
        "# Create an iterator class in Python that generates the Fibonacci sequence up to a specified number of terms\n",
        "\n",
        "class FibonacciIterator:\n",
        "    def __init__(self, n_terms):\n",
        "        self.n_terms = n_terms\n",
        "        self.a, self.b = 0, 1\n",
        "        self.count = 0\n",
        "\n",
        "    def __iter__(self):\n",
        "        return self\n",
        "\n",
        "    def __next__(self):\n",
        "        if self.count >= self.n_terms:\n",
        "            raise StopIteration\n",
        "        fib_num = self.a\n",
        "        self.a, self.b = self.b, self.a + self.b\n",
        "        self.count += 1\n",
        "        return fib_num\n",
        "\n",
        "# Example usage\n",
        "fib_iter = FibonacciIterator(10)\n",
        "print(list(fib_iter))"
      ],
      "metadata": {
        "colab": {
          "base_uri": "https://localhost:8080/"
        },
        "id": "-0ZuRyZgiHEk",
        "outputId": "ee1361d1-8b2a-47b3-a16a-9d246fda5865"
      },
      "execution_count": 5,
      "outputs": [
        {
          "output_type": "stream",
          "name": "stdout",
          "text": [
            "[0, 1, 1, 2, 3, 5, 8, 13, 21, 34]\n"
          ]
        }
      ]
    },
    {
      "cell_type": "code",
      "source": [
        "#Write a generator function in Python that yields the powers of 2 up to a given exponent.\n",
        "def powers_of_two(max_exponent):\n",
        "    for exponent in range(max_exponent + 1):\n",
        "        yield 2 ** exponent\n",
        "\n",
        "# Example usage\n",
        "for power in powers_of_two(5):\n",
        "    print(power)"
      ],
      "metadata": {
        "colab": {
          "base_uri": "https://localhost:8080/"
        },
        "id": "gvSWNWlfilsM",
        "outputId": "19e03622-5de0-442b-a623-4610146de632"
      },
      "execution_count": 6,
      "outputs": [
        {
          "output_type": "stream",
          "name": "stdout",
          "text": [
            "1\n",
            "2\n",
            "4\n",
            "8\n",
            "16\n",
            "32\n"
          ]
        }
      ]
    },
    {
      "cell_type": "code",
      "source": [
        "#Implement a generator function that reads a file line by line and yields each line as a string.\n",
        "def read_file_line_by_line(filename):\n",
        "    \"\"\"Generator function to read a file line by line.\"\"\"\n",
        "    try:\n",
        "        with open(filename, 'r', encoding='utf-8') as file:\n",
        "            for line in file:\n",
        "                yield line.strip()  # Remove leading/trailing whitespace\n",
        "    except FileNotFoundError:\n",
        "        print(f\"Error: The file '{filename}' was not found.\")\n",
        "\n",
        "# Full program to demonstrate the generator function\n",
        "def main():\n",
        "    filename = \"example.txt\"  # Change this to your actual file name\n",
        "\n",
        "    print(f\"Reading file: {filename}\\n\")\n",
        "\n",
        "    for line in read_file_line_by_line(filename):\n",
        "        print(line)\n",
        "\n",
        "# Run the program\n",
        "if __name__ == \"__main__\":\n",
        "    main()\n"
      ],
      "metadata": {
        "colab": {
          "base_uri": "https://localhost:8080/"
        },
        "id": "NBIthmxyi44-",
        "outputId": "1bb9882a-11e9-42ce-a4f8-0a411687e4e6"
      },
      "execution_count": 8,
      "outputs": [
        {
          "output_type": "stream",
          "name": "stdout",
          "text": [
            "Reading file: example.txt\n",
            "\n",
            "Error: The file 'example.txt' was not found.\n"
          ]
        }
      ]
    },
    {
      "cell_type": "code",
      "source": [
        "#Use a lambda function in Python to sort a list of tuples based on the second element of each tuple.\n",
        "\n",
        "# Sample list of tuples\n",
        "tuples_list = [(1, 3), (4, 1), (2, 2), (5, 0)]\n",
        "\n",
        "# Sorting using a lambda function (by second element)\n",
        "sorted_list = sorted(tuples_list, key=lambda x: x[1])\n",
        "\n",
        "# Output the sorted list\n",
        "print(sorted_list)\n"
      ],
      "metadata": {
        "colab": {
          "base_uri": "https://localhost:8080/"
        },
        "id": "_MoSHpeXj7gv",
        "outputId": "854369bd-bbf7-466b-fcb6-4ba3f7bab883"
      },
      "execution_count": 9,
      "outputs": [
        {
          "output_type": "stream",
          "name": "stdout",
          "text": [
            "[(5, 0), (4, 1), (2, 2), (1, 3)]\n"
          ]
        }
      ]
    },
    {
      "cell_type": "code",
      "source": [
        "# Write a Python program that uses `map()` to convert a list of temperatures from Celsius to Fahrenheit.\n",
        "\n",
        "# Function to convert Celsius to Fahrenheit\n",
        "celsius_to_fahrenheit = lambda c: (c * 9/5) + 32\n",
        "\n",
        "# List of temperatures in Celsius\n",
        "celsius_temperatures = [0, 10, 20, 30, 40, 100]\n",
        "\n",
        "# Convert using map()\n",
        "fahrenheit_temperatures = list(map(celsius_to_fahrenheit, celsius_temperatures))\n",
        "\n",
        "# Output the results\n",
        "print(\"Celsius:\", celsius_temperatures)\n",
        "print(\"Fahrenheit:\", fahrenheit_temperatures)\n"
      ],
      "metadata": {
        "colab": {
          "base_uri": "https://localhost:8080/"
        },
        "id": "xjPJpavyka1G",
        "outputId": "4244cb3d-1097-48ab-b889-0f744b92bbd4"
      },
      "execution_count": 10,
      "outputs": [
        {
          "output_type": "stream",
          "name": "stdout",
          "text": [
            "Celsius: [0, 10, 20, 30, 40, 100]\n",
            "Fahrenheit: [32.0, 50.0, 68.0, 86.0, 104.0, 212.0]\n"
          ]
        }
      ]
    },
    {
      "cell_type": "code",
      "source": [
        "#Create a Python program that uses `filter()` to remove all the vowels from a given string.\n",
        "\n",
        "def remove_vowels(string):\n",
        "    vowels = \"aeiouAEIOU\"\n",
        "    return \"\".join(filter(lambda char: char not in vowels, string))\n",
        "\n",
        "# Example usage\n",
        "input_string = \"Daksh Pratibha\"\n",
        "output_string = remove_vowels(input_string)\n",
        "\n",
        "print(\"Original String:\", input_string)\n",
        "print(\"String without vowels:\", output_string)"
      ],
      "metadata": {
        "colab": {
          "base_uri": "https://localhost:8080/"
        },
        "id": "eoAymYQckoiq",
        "outputId": "43e60ee5-2487-4f7e-908b-60dc7f1cbb39"
      },
      "execution_count": 11,
      "outputs": [
        {
          "output_type": "stream",
          "name": "stdout",
          "text": [
            "Original String: Daksh Pratibha\n",
            "String without vowels: Dksh Prtbh\n"
          ]
        }
      ]
    },
    {
      "cell_type": "code",
      "source": [
        "#magine an accounting routine used in a book shop. It works on a list with sublists, which look like this:\n",
        "#Order number\t\t\tbook title and author\t\t\tquantity\tprice per item\n",
        "#34587\t\t\t\tlearning python, mark Lutz\t\t4\t\t40.95\n",
        "#98762\t\t\t\tprogramming python, mark lut\t\t5\t\t56.80\n",
        "#77226\t\t\t\thead first python, paul barr\t\t3\t\t32.95\n",
        "#88112\t\t\t\teinfuhrang in python3, brend\t\t3\t\t24.99\n",
        "\n",
        "#Write a Python program, which returns a list with 2-tuples. Each tuple consists of the order number and the\n",
        "#product of the price per item and the quantity. The product should be increased by 10,- € if the value of the\n",
        "#order is smaller than 100,00 €.\n",
        "\n",
        "# List of orders: [Order Number, Book Title and Author, Quantity, Price per Item]\n",
        "orders = [\n",
        "    (34587, \"Learning Python, Mark Lutz\", 4, 40.95),\n",
        "    (98762, \"Programming Python, Mark Lutz\", 5, 56.80),\n",
        "    (77226, \"Head First Python, Paul Barry\", 3, 32.95),\n",
        "    (88112, \"Einführung in Python3, Bernd Klein\", 3, 24.99)\n",
        "]\n",
        "\n",
        "# Function to calculate total price with the €10 increase for orders under €100\n",
        "def calculate_order_totals(orders):\n",
        "    return [\n",
        "        (order[0], total + 10 if total < 100 else total)  # Increase by €10 if total < €100\n",
        "        for order in orders\n",
        "        for total in [round(order[2] * order[3], 2)]  # Calculate total price (quantity * price)\n",
        "    ]\n",
        "\n",
        "# Compute order totals\n",
        "order_totals = calculate_order_totals(orders)\n",
        "\n",
        "# Display the result\n",
        "print(\"Order Number | Total Price (€)\")\n",
        "print(\"------------------------------\")\n",
        "for order in order_totals:\n",
        "    print(f\"{order[0]}        | €{order[1]:.2f}\")\n",
        "\n",
        "#Write a Python program using lambda and map.\n",
        "# List of orders: [Order Number, Book Title and Author, Quantity, Price per Item]\n",
        "orders = [\n",
        "    (34587, \"Learning Python, Mark Lutz\", 4, 40.95),\n",
        "    (98762, \"Programming Python, Mark Lutz\", 5, 56.80),\n",
        "    (77226, \"Head First Python, Paul Barry\", 3, 32.95),\n",
        "    (88112, \"Einführung in Python3, Bernd Klein\", 3, 24.99)\n",
        "]\n",
        "\n",
        "# Using lambda & map to calculate total prices\n",
        "order_totals = list(map(lambda order:\n",
        "    (order[0], round(order[2] * order[3], 2) + 10 if order[2] * order[3] < 100 else round(order[2] * order[3], 2)),\n",
        "    orders\n",
        "))\n",
        "\n",
        "# Display the result\n",
        "print(\"Order Number | Total Price (€)\")\n",
        "print(\"------------------------------\")\n",
        "for order in order_totals:\n",
        "    print(f\"{order[0]}        | €{order[1]:.2f}\")\n",
        "\n",
        "\n",
        "\n",
        "\n"
      ],
      "metadata": {
        "colab": {
          "base_uri": "https://localhost:8080/"
        },
        "id": "0pB-4tEjk_DQ",
        "outputId": "e76125e5-b2b8-4ef6-9c2f-1c2ffc5d89dd"
      },
      "execution_count": 14,
      "outputs": [
        {
          "output_type": "stream",
          "name": "stdout",
          "text": [
            "Order Number | Total Price (€)\n",
            "------------------------------\n",
            "34587        | €163.80\n",
            "98762        | €284.00\n",
            "77226        | €108.85\n",
            "88112        | €84.97\n",
            "Order Number | Total Price (€)\n",
            "------------------------------\n",
            "34587        | €163.80\n",
            "98762        | €284.00\n",
            "77226        | €108.85\n",
            "88112        | €84.97\n"
          ]
        }
      ]
    },
    {
      "cell_type": "code",
      "source": [],
      "metadata": {
        "id": "Sr3g2vYDoMSY"
      },
      "execution_count": null,
      "outputs": []
    }
  ]
}